{
 "cells": [
  {
   "cell_type": "markdown",
   "metadata": {},
   "source": [
    "In this notebook, I will use word embeddings . First, I will train a model without using any pretrained embeddings, i.e., we will learn our own embeddings from the disaster tweets.  Then, I'll use pretrained GloVe, FastText and Paragram embeddings learned on a large data set"
   ]
  },
  {
   "cell_type": "markdown",
   "metadata": {},
   "source": [
    "<h2>Load the data</h2>"
   ]
  },
  {
   "cell_type": "code",
   "execution_count": 2,
   "metadata": {},
   "outputs": [
    {
     "data": {
      "text/plain": [
       "((7613, 5), (3263, 4))"
      ]
     },
     "execution_count": 2,
     "metadata": {},
     "output_type": "execute_result"
    }
   ],
   "source": [
    "import pandas as pd\n",
    "\n",
    "train = pd.read_csv('data/train.csv')\n",
    "test = pd.read_csv('data/test.csv')\n",
    "\n",
    "train.shape, test.shape"
   ]
  },
  {
   "cell_type": "code",
   "execution_count": 3,
   "metadata": {},
   "outputs": [
    {
     "data": {
      "text/html": [
       "<div>\n",
       "<style scoped>\n",
       "    .dataframe tbody tr th:only-of-type {\n",
       "        vertical-align: middle;\n",
       "    }\n",
       "\n",
       "    .dataframe tbody tr th {\n",
       "        vertical-align: top;\n",
       "    }\n",
       "\n",
       "    .dataframe thead th {\n",
       "        text-align: right;\n",
       "    }\n",
       "</style>\n",
       "<table border=\"1\" class=\"dataframe\">\n",
       "  <thead>\n",
       "    <tr style=\"text-align: right;\">\n",
       "      <th></th>\n",
       "      <th>id</th>\n",
       "      <th>keyword</th>\n",
       "      <th>location</th>\n",
       "      <th>text</th>\n",
       "      <th>target</th>\n",
       "    </tr>\n",
       "  </thead>\n",
       "  <tbody>\n",
       "    <tr>\n",
       "      <th>0</th>\n",
       "      <td>1</td>\n",
       "      <td>NaN</td>\n",
       "      <td>NaN</td>\n",
       "      <td>Our Deeds are the Reason of this #earthquake M...</td>\n",
       "      <td>1</td>\n",
       "    </tr>\n",
       "    <tr>\n",
       "      <th>1</th>\n",
       "      <td>4</td>\n",
       "      <td>NaN</td>\n",
       "      <td>NaN</td>\n",
       "      <td>Forest fire near La Ronge Sask. Canada</td>\n",
       "      <td>1</td>\n",
       "    </tr>\n",
       "    <tr>\n",
       "      <th>2</th>\n",
       "      <td>5</td>\n",
       "      <td>NaN</td>\n",
       "      <td>NaN</td>\n",
       "      <td>All residents asked to 'shelter in place' are ...</td>\n",
       "      <td>1</td>\n",
       "    </tr>\n",
       "    <tr>\n",
       "      <th>3</th>\n",
       "      <td>6</td>\n",
       "      <td>NaN</td>\n",
       "      <td>NaN</td>\n",
       "      <td>13,000 people receive #wildfires evacuation or...</td>\n",
       "      <td>1</td>\n",
       "    </tr>\n",
       "    <tr>\n",
       "      <th>4</th>\n",
       "      <td>7</td>\n",
       "      <td>NaN</td>\n",
       "      <td>NaN</td>\n",
       "      <td>Just got sent this photo from Ruby #Alaska as ...</td>\n",
       "      <td>1</td>\n",
       "    </tr>\n",
       "  </tbody>\n",
       "</table>\n",
       "</div>"
      ],
      "text/plain": [
       "   id keyword location                                               text  \\\n",
       "0   1     NaN      NaN  Our Deeds are the Reason of this #earthquake M...   \n",
       "1   4     NaN      NaN             Forest fire near La Ronge Sask. Canada   \n",
       "2   5     NaN      NaN  All residents asked to 'shelter in place' are ...   \n",
       "3   6     NaN      NaN  13,000 people receive #wildfires evacuation or...   \n",
       "4   7     NaN      NaN  Just got sent this photo from Ruby #Alaska as ...   \n",
       "\n",
       "   target  \n",
       "0       1  \n",
       "1       1  \n",
       "2       1  \n",
       "3       1  \n",
       "4       1  "
      ]
     },
     "execution_count": 3,
     "metadata": {},
     "output_type": "execute_result"
    }
   ],
   "source": [
    "train.head()"
   ]
  },
  {
   "cell_type": "code",
   "execution_count": 4,
   "metadata": {
    "scrolled": true
   },
   "outputs": [
    {
     "data": {
      "text/html": [
       "<div>\n",
       "<style scoped>\n",
       "    .dataframe tbody tr th:only-of-type {\n",
       "        vertical-align: middle;\n",
       "    }\n",
       "\n",
       "    .dataframe tbody tr th {\n",
       "        vertical-align: top;\n",
       "    }\n",
       "\n",
       "    .dataframe thead th {\n",
       "        text-align: right;\n",
       "    }\n",
       "</style>\n",
       "<table border=\"1\" class=\"dataframe\">\n",
       "  <thead>\n",
       "    <tr style=\"text-align: right;\">\n",
       "      <th></th>\n",
       "      <th>id</th>\n",
       "      <th>keyword</th>\n",
       "      <th>location</th>\n",
       "      <th>text</th>\n",
       "    </tr>\n",
       "  </thead>\n",
       "  <tbody>\n",
       "    <tr>\n",
       "      <th>0</th>\n",
       "      <td>0</td>\n",
       "      <td>NaN</td>\n",
       "      <td>NaN</td>\n",
       "      <td>Just happened a terrible car crash</td>\n",
       "    </tr>\n",
       "    <tr>\n",
       "      <th>1</th>\n",
       "      <td>2</td>\n",
       "      <td>NaN</td>\n",
       "      <td>NaN</td>\n",
       "      <td>Heard about #earthquake is different cities, s...</td>\n",
       "    </tr>\n",
       "    <tr>\n",
       "      <th>2</th>\n",
       "      <td>3</td>\n",
       "      <td>NaN</td>\n",
       "      <td>NaN</td>\n",
       "      <td>there is a forest fire at spot pond, geese are...</td>\n",
       "    </tr>\n",
       "    <tr>\n",
       "      <th>3</th>\n",
       "      <td>9</td>\n",
       "      <td>NaN</td>\n",
       "      <td>NaN</td>\n",
       "      <td>Apocalypse lighting. #Spokane #wildfires</td>\n",
       "    </tr>\n",
       "    <tr>\n",
       "      <th>4</th>\n",
       "      <td>11</td>\n",
       "      <td>NaN</td>\n",
       "      <td>NaN</td>\n",
       "      <td>Typhoon Soudelor kills 28 in China and Taiwan</td>\n",
       "    </tr>\n",
       "  </tbody>\n",
       "</table>\n",
       "</div>"
      ],
      "text/plain": [
       "   id keyword location                                               text\n",
       "0   0     NaN      NaN                 Just happened a terrible car crash\n",
       "1   2     NaN      NaN  Heard about #earthquake is different cities, s...\n",
       "2   3     NaN      NaN  there is a forest fire at spot pond, geese are...\n",
       "3   9     NaN      NaN           Apocalypse lighting. #Spokane #wildfires\n",
       "4  11     NaN      NaN      Typhoon Soudelor kills 28 in China and Taiwan"
      ]
     },
     "execution_count": 4,
     "metadata": {},
     "output_type": "execute_result"
    }
   ],
   "source": [
    "test.head()"
   ]
  },
  {
   "cell_type": "markdown",
   "metadata": {},
   "source": [
    "<h2>Without pre-trained word embeddings</h2>\n",
    "\n",
    "Let's create a model to learn our own embeddings and then make some predictions"
   ]
  },
  {
   "cell_type": "markdown",
   "metadata": {},
   "source": [
    "<h3>Text Preprocessing</h3>\n",
    "\n",
    "Preprocessing is going to be slightly different than what we did for simple logistic regression b/c for embeddings, context is important. So, for example, we'll keep numbers and stopwords because these could be useful"
   ]
  },
  {
   "cell_type": "code",
   "execution_count": 5,
   "metadata": {},
   "outputs": [
    {
     "data": {
      "text/html": [
       "<div>\n",
       "<style scoped>\n",
       "    .dataframe tbody tr th:only-of-type {\n",
       "        vertical-align: middle;\n",
       "    }\n",
       "\n",
       "    .dataframe tbody tr th {\n",
       "        vertical-align: top;\n",
       "    }\n",
       "\n",
       "    .dataframe thead th {\n",
       "        text-align: right;\n",
       "    }\n",
       "</style>\n",
       "<table border=\"1\" class=\"dataframe\">\n",
       "  <thead>\n",
       "    <tr style=\"text-align: right;\">\n",
       "      <th></th>\n",
       "      <th>id</th>\n",
       "      <th>keyword</th>\n",
       "      <th>location</th>\n",
       "      <th>text</th>\n",
       "      <th>target</th>\n",
       "      <th>clean_text</th>\n",
       "    </tr>\n",
       "  </thead>\n",
       "  <tbody>\n",
       "    <tr>\n",
       "      <th>0</th>\n",
       "      <td>1</td>\n",
       "      <td>NaN</td>\n",
       "      <td>NaN</td>\n",
       "      <td>Our Deeds are the Reason of this #earthquake M...</td>\n",
       "      <td>1</td>\n",
       "      <td>our deeds are the reason of this earthquake ma...</td>\n",
       "    </tr>\n",
       "    <tr>\n",
       "      <th>1</th>\n",
       "      <td>4</td>\n",
       "      <td>NaN</td>\n",
       "      <td>NaN</td>\n",
       "      <td>Forest fire near La Ronge Sask. Canada</td>\n",
       "      <td>1</td>\n",
       "      <td>forest fire near la ronge sask canada</td>\n",
       "    </tr>\n",
       "    <tr>\n",
       "      <th>2</th>\n",
       "      <td>5</td>\n",
       "      <td>NaN</td>\n",
       "      <td>NaN</td>\n",
       "      <td>All residents asked to 'shelter in place' are ...</td>\n",
       "      <td>1</td>\n",
       "      <td>all residents asked to shelter in place are be...</td>\n",
       "    </tr>\n",
       "    <tr>\n",
       "      <th>3</th>\n",
       "      <td>6</td>\n",
       "      <td>NaN</td>\n",
       "      <td>NaN</td>\n",
       "      <td>13,000 people receive #wildfires evacuation or...</td>\n",
       "      <td>1</td>\n",
       "      <td>13 000 people receive wildfires evacuation ord...</td>\n",
       "    </tr>\n",
       "    <tr>\n",
       "      <th>4</th>\n",
       "      <td>7</td>\n",
       "      <td>NaN</td>\n",
       "      <td>NaN</td>\n",
       "      <td>Just got sent this photo from Ruby #Alaska as ...</td>\n",
       "      <td>1</td>\n",
       "      <td>just got sent this photo from ruby alaska as s...</td>\n",
       "    </tr>\n",
       "  </tbody>\n",
       "</table>\n",
       "</div>"
      ],
      "text/plain": [
       "   id keyword location                                               text  \\\n",
       "0   1     NaN      NaN  Our Deeds are the Reason of this #earthquake M...   \n",
       "1   4     NaN      NaN             Forest fire near La Ronge Sask. Canada   \n",
       "2   5     NaN      NaN  All residents asked to 'shelter in place' are ...   \n",
       "3   6     NaN      NaN  13,000 people receive #wildfires evacuation or...   \n",
       "4   7     NaN      NaN  Just got sent this photo from Ruby #Alaska as ...   \n",
       "\n",
       "   target                                         clean_text  \n",
       "0       1  our deeds are the reason of this earthquake ma...  \n",
       "1       1              forest fire near la ronge sask canada  \n",
       "2       1  all residents asked to shelter in place are be...  \n",
       "3       1  13 000 people receive wildfires evacuation ord...  \n",
       "4       1  just got sent this photo from ruby alaska as s...  "
      ]
     },
     "execution_count": 5,
     "metadata": {},
     "output_type": "execute_result"
    }
   ],
   "source": [
    "from bs4 import BeautifulSoup\n",
    "import nltk\n",
    "import re\n",
    "\n",
    "def clean_text(text, remove_stopwords=False):\n",
    "    # strip html tags\n",
    "    text = BeautifulSoup(text, \"html.parser\").get_text()\n",
    "    \n",
    "    # lower case, remove special characters, and strip leading and trailing whitespaces\n",
    "    text = re.sub(r'[^a-zA-Z0-9]', ' ', text)\n",
    "    \n",
    "    # Create tokens\n",
    "    words = text.lower().split()\n",
    "    \n",
    "    # filter out stopwords\n",
    "    if remove_stopwords:\n",
    "        stop_words = set(nltk.corpus.stopwords.words('english'))\n",
    "        words = [word for word in words if word not in stop_words]\n",
    "\n",
    "    return ' '.join(words)\n",
    "\n",
    "train['clean_text'] = train['text'].apply(lambda x: clean_text(x))\n",
    "train.head()"
   ]
  },
  {
   "cell_type": "code",
   "execution_count": 6,
   "metadata": {},
   "outputs": [
    {
     "data": {
      "text/html": [
       "<div>\n",
       "<style scoped>\n",
       "    .dataframe tbody tr th:only-of-type {\n",
       "        vertical-align: middle;\n",
       "    }\n",
       "\n",
       "    .dataframe tbody tr th {\n",
       "        vertical-align: top;\n",
       "    }\n",
       "\n",
       "    .dataframe thead th {\n",
       "        text-align: right;\n",
       "    }\n",
       "</style>\n",
       "<table border=\"1\" class=\"dataframe\">\n",
       "  <thead>\n",
       "    <tr style=\"text-align: right;\">\n",
       "      <th></th>\n",
       "      <th>id</th>\n",
       "      <th>keyword</th>\n",
       "      <th>location</th>\n",
       "      <th>text</th>\n",
       "      <th>clean_text</th>\n",
       "    </tr>\n",
       "  </thead>\n",
       "  <tbody>\n",
       "    <tr>\n",
       "      <th>0</th>\n",
       "      <td>0</td>\n",
       "      <td>NaN</td>\n",
       "      <td>NaN</td>\n",
       "      <td>Just happened a terrible car crash</td>\n",
       "      <td>just happened a terrible car crash</td>\n",
       "    </tr>\n",
       "    <tr>\n",
       "      <th>1</th>\n",
       "      <td>2</td>\n",
       "      <td>NaN</td>\n",
       "      <td>NaN</td>\n",
       "      <td>Heard about #earthquake is different cities, s...</td>\n",
       "      <td>heard about earthquake is different cities sta...</td>\n",
       "    </tr>\n",
       "    <tr>\n",
       "      <th>2</th>\n",
       "      <td>3</td>\n",
       "      <td>NaN</td>\n",
       "      <td>NaN</td>\n",
       "      <td>there is a forest fire at spot pond, geese are...</td>\n",
       "      <td>there is a forest fire at spot pond geese are ...</td>\n",
       "    </tr>\n",
       "    <tr>\n",
       "      <th>3</th>\n",
       "      <td>9</td>\n",
       "      <td>NaN</td>\n",
       "      <td>NaN</td>\n",
       "      <td>Apocalypse lighting. #Spokane #wildfires</td>\n",
       "      <td>apocalypse lighting spokane wildfires</td>\n",
       "    </tr>\n",
       "    <tr>\n",
       "      <th>4</th>\n",
       "      <td>11</td>\n",
       "      <td>NaN</td>\n",
       "      <td>NaN</td>\n",
       "      <td>Typhoon Soudelor kills 28 in China and Taiwan</td>\n",
       "      <td>typhoon soudelor kills 28 in china and taiwan</td>\n",
       "    </tr>\n",
       "  </tbody>\n",
       "</table>\n",
       "</div>"
      ],
      "text/plain": [
       "   id keyword location                                               text  \\\n",
       "0   0     NaN      NaN                 Just happened a terrible car crash   \n",
       "1   2     NaN      NaN  Heard about #earthquake is different cities, s...   \n",
       "2   3     NaN      NaN  there is a forest fire at spot pond, geese are...   \n",
       "3   9     NaN      NaN           Apocalypse lighting. #Spokane #wildfires   \n",
       "4  11     NaN      NaN      Typhoon Soudelor kills 28 in China and Taiwan   \n",
       "\n",
       "                                          clean_text  \n",
       "0                 just happened a terrible car crash  \n",
       "1  heard about earthquake is different cities sta...  \n",
       "2  there is a forest fire at spot pond geese are ...  \n",
       "3              apocalypse lighting spokane wildfires  \n",
       "4      typhoon soudelor kills 28 in china and taiwan  "
      ]
     },
     "execution_count": 6,
     "metadata": {},
     "output_type": "execute_result"
    }
   ],
   "source": [
    "test['clean_text'] = test['text'].apply(lambda x: clean_text(x))\n",
    "test.head()"
   ]
  },
  {
   "cell_type": "markdown",
   "metadata": {},
   "source": [
    "<h3>Split the data</h3>"
   ]
  },
  {
   "cell_type": "code",
   "execution_count": 7,
   "metadata": {},
   "outputs": [],
   "source": [
    "from sklearn.model_selection import train_test_split\n",
    "\n",
    "X_train, X_val, y_train, y_val = train_test_split(\n",
    "    train['clean_text'], train['target'], shuffle=True, test_size=0.2, random_state=0)\n",
    "X_test = test['clean_text']"
   ]
  },
  {
   "cell_type": "markdown",
   "metadata": {},
   "source": [
    "Later in the notebook, I will use pretrained embeddings using GloVe etc., but let's see how a model without pre-trained embeddings performs.  This is just to illustrate the power of pretrained embeddings"
   ]
  },
  {
   "cell_type": "code",
   "execution_count": 8,
   "metadata": {},
   "outputs": [
    {
     "data": {
      "text/plain": [
       "140"
      ]
     },
     "execution_count": 8,
     "metadata": {},
     "output_type": "execute_result"
    }
   ],
   "source": [
    "max(X_train.apply(lambda x: len(x)))"
   ]
  },
  {
   "cell_type": "code",
   "execution_count": 18,
   "metadata": {},
   "outputs": [],
   "source": [
    "import numpy as np\n",
    "from keras.preprocessing.text import Tokenizer\n",
    "from keras.preprocessing.sequence import pad_sequences\n",
    "\n",
    "# Initialize parameters\n",
    "np.random.seed(0)\n",
    "input_length = 120 # max number of words to use in tweet\n",
    "embed_size = 300 # embedding dimension for each word vector\n",
    "max_features = 10000 # number of unique words to use"
   ]
  },
  {
   "cell_type": "code",
   "execution_count": 19,
   "metadata": {},
   "outputs": [
    {
     "name": "stdout",
     "output_type": "stream",
     "text": [
      "Wall time: 308 ms\n"
     ]
    }
   ],
   "source": [
    "%%time\n",
    "\n",
    "# Tokenize the text\n",
    "tokenizer = Tokenizer(num_words=max_features)\n",
    "tokenizer.fit_on_texts(X_train)\n",
    "\n",
    "# Featurize\n",
    "train_data_features = tokenizer.texts_to_sequences(X_train)\n",
    "val_data_features = tokenizer.texts_to_sequences(X_val)\n",
    "test_data_features = tokenizer.texts_to_sequences(X_test) \n",
    "\n",
    "# Pad sequences so they are all the same length\n",
    "train_data_features = pad_sequences(train_data_features, maxlen=input_length)\n",
    "val_data_features = pad_sequences(val_data_features, maxlen=input_length)\n",
    "test_data_features = pad_sequences(test_data_features, maxlen=input_length)"
   ]
  },
  {
   "cell_type": "code",
   "execution_count": 20,
   "metadata": {},
   "outputs": [],
   "source": [
    "from keras.layers import Embedding, Dropout, Conv1D, MaxPool1D, Dense, \\\n",
    "    CuDNNLSTM, CuDNNGRU, Bidirectional\n",
    "from keras.models import Sequential\n",
    "\n",
    "def build_model(input_length, max_features, embed_size, use_lstm=False):\n",
    "    model = Sequential()\n",
    "\n",
    "    model.add(Embedding(\n",
    "        input_dim=max_features, \n",
    "        output_dim=embed_size,\n",
    "        input_length=input_length))\n",
    "\n",
    "    model.add(Dropout(0.2))\n",
    "    model.add(Conv1D(filters=32, kernel_size=3, padding='same', activation='relu'))\n",
    "    model.add(MaxPool1D(pool_size=2))\n",
    "    \n",
    "    if use_lstm:\n",
    "        model.add(Bidirectional(CuDNNLSTM(128)))\n",
    "    else:\n",
    "        model.add(Bidirectional(CuDNNGRU(128)))\n",
    "    model.add(Dropout(0.2))\n",
    "    model.add(Dense(1, activation='sigmoid'))\n",
    "    \n",
    "    model.compile(optimizer='adam', loss='binary_crossentropy', metrics=['accuracy'])\n",
    "    model.summary()\n",
    "    \n",
    "    return model"
   ]
  },
  {
   "cell_type": "markdown",
   "metadata": {},
   "source": [
    "<b>BiGRU model on unigrams without pretrained embeddings</b>"
   ]
  },
  {
   "cell_type": "code",
   "execution_count": 21,
   "metadata": {
    "scrolled": false
   },
   "outputs": [
    {
     "name": "stdout",
     "output_type": "stream",
     "text": [
      "_________________________________________________________________\n",
      "Layer (type)                 Output Shape              Param #   \n",
      "=================================================================\n",
      "embedding_5 (Embedding)      (None, 120, 300)          3000000   \n",
      "_________________________________________________________________\n",
      "dropout_8 (Dropout)          (None, 120, 300)          0         \n",
      "_________________________________________________________________\n",
      "conv1d_5 (Conv1D)            (None, 120, 32)           28832     \n",
      "_________________________________________________________________\n",
      "max_pooling1d_5 (MaxPooling1 (None, 60, 32)            0         \n",
      "_________________________________________________________________\n",
      "bidirectional_5 (Bidirection (None, 256)               124416    \n",
      "_________________________________________________________________\n",
      "dropout_9 (Dropout)          (None, 256)               0         \n",
      "_________________________________________________________________\n",
      "dense_4 (Dense)              (None, 1)                 257       \n",
      "=================================================================\n",
      "Total params: 3,153,505\n",
      "Trainable params: 3,153,505\n",
      "Non-trainable params: 0\n",
      "_________________________________________________________________\n"
     ]
    }
   ],
   "source": [
    "gru_model = build_model(input_length, max_features, embed_size)"
   ]
  },
  {
   "cell_type": "code",
   "execution_count": 22,
   "metadata": {
    "scrolled": false
   },
   "outputs": [
    {
     "name": "stdout",
     "output_type": "stream",
     "text": [
      "Train on 6090 samples, validate on 1523 samples\n",
      "Epoch 1/3\n",
      "6090/6090 [==============================] - 2s 390us/step - loss: 0.6629 - acc: 0.5841 - val_loss: 0.5884 - val_acc: 0.6940\n",
      "Epoch 2/3\n",
      "6090/6090 [==============================] - 1s 179us/step - loss: 0.4786 - acc: 0.7752 - val_loss: 0.4652 - val_acc: 0.7912\n",
      "Epoch 3/3\n",
      "6090/6090 [==============================] - 1s 179us/step - loss: 0.2813 - acc: 0.8872 - val_loss: 0.4662 - val_acc: 0.7971\n"
     ]
    }
   ],
   "source": [
    "gru_history = gru_model.fit(train_data_features, y_train, batch_size=256, epochs=3, \n",
    "              validation_data=[val_data_features, y_val])"
   ]
  },
  {
   "cell_type": "code",
   "execution_count": 23,
   "metadata": {},
   "outputs": [],
   "source": [
    "import matplotlib.pyplot as plt\n",
    "\n",
    "def plot_loss_curves(model):\n",
    "    fig, (axis1, axis2) = plt.subplots(nrows=1, ncols=2, figsize=(14,6))\n",
    "    \n",
    "    # summarize history for accuracy\n",
    "    axis1.plot(model.history['acc'], label='Train', linewidth=3)\n",
    "    axis1.plot(model.history['val_acc'], label='Validation', linewidth=3)\n",
    "    axis1.set_title('Model accuracy', fontsize=16)\n",
    "    axis1.set_ylabel('accuracy')\n",
    "    axis1.set_xlabel('epoch')\n",
    "    axis1.legend(loc='upper left')\n",
    "\n",
    "    # summarize history for loss\n",
    "    axis2.plot(model.history['loss'], label='Train', linewidth=3)\n",
    "    axis2.plot(model.history['val_loss'], label='Validation', linewidth=3)\n",
    "    axis2.set_title('Model loss', fontsize=16)\n",
    "    axis2.set_ylabel('loss')\n",
    "    axis2.set_xlabel('epoch')\n",
    "    axis2.legend(loc='upper right')\n",
    "    plt.show()"
   ]
  },
  {
   "cell_type": "code",
   "execution_count": 24,
   "metadata": {},
   "outputs": [
    {
     "data": {
      "image/png": "[encoded data removed]",
      "text/plain": [
       "<Figure size 1008x432 with 2 Axes>"
      ]
     },
     "metadata": {
      "needs_background": "light"
     },
     "output_type": "display_data"
    }
   ],
   "source": [
    "plot_loss_curves(gru_history)"
   ]
  },
  {
   "cell_type": "code",
   "execution_count": 26,
   "metadata": {},
   "outputs": [
    {
     "name": "stdout",
     "output_type": "stream",
     "text": [
      "F1 score at threshold 0.2 is 0.7236315086782377\n",
      "F1 score at threshold 0.21 is 0.7246963562753036\n",
      "F1 score at threshold 0.22 is 0.728268309377139\n",
      "F1 score at threshold 0.23 is 0.7337031900138696\n",
      "F1 score at threshold 0.24 is 0.7363253856942497\n",
      "F1 score at threshold 0.25 is 0.7390691114245416\n",
      "F1 score at threshold 0.26 is 0.7409510290986515\n",
      "F1 score at threshold 0.27 is 0.7421203438395415\n",
      "F1 score at threshold 0.28 is 0.7490961677512654\n",
      "F1 score at threshold 0.29 is 0.7478134110787172\n",
      "F1 score at threshold 0.3 is 0.7533039647577092\n",
      "F1 score at threshold 0.31 is 0.7511111111111112\n",
      "F1 score at threshold 0.32 is 0.7531692766592095\n",
      "F1 score at threshold 0.33 is 0.7544910179640719\n",
      "F1 score at threshold 0.34 is 0.7526395173453997\n",
      "F1 score at threshold 0.35 is 0.7482889733840304\n",
      "F1 score at threshold 0.36 is 0.747135217723453\n",
      "F1 score at threshold 0.37 is 0.7455803228285933\n",
      "F1 score at threshold 0.38 is 0.7463377023901311\n",
      "F1 score at threshold 0.39 is 0.7478665632273079\n",
      "F1 score at threshold 0.4 is 0.7476635514018692\n",
      "F1 score at threshold 0.41 is 0.7470634299138607\n",
      "F1 score at threshold 0.42 is 0.7434885556432518\n",
      "F1 score at threshold 0.43 is 0.7428571428571429\n",
      "F1 score at threshold 0.44 is 0.74481658692185\n",
      "F1 score at threshold 0.45 is 0.744\n",
      "F1 score at threshold 0.46 is 0.7459807073954984\n",
      "F1 score at threshold 0.47 is 0.7473769168684423\n",
      "F1 score at threshold 0.48 is 0.7465587044534413\n",
      "F1 score at threshold 0.49 is 0.7463414634146341\n"
     ]
    }
   ],
   "source": [
    "from sklearn.metrics import f1_score, classification_report\n",
    "\n",
    "y_val_probs_gru = gru_model.predict_proba(val_data_features)\n",
    "for thresh in np.arange(0.2, 0.5, 0.01):\n",
    "    thresh = np.round(thresh, 2)\n",
    "    print(\"F1 score at threshold {0} is {1}\".format(thresh, f1_score(y_val, (y_val_probs_gru>thresh).astype(int))))"
   ]
  },
  {
   "cell_type": "code",
   "execution_count": 27,
   "metadata": {},
   "outputs": [
    {
     "name": "stdout",
     "output_type": "stream",
     "text": [
      "              precision    recall  f1-score   support\n",
      "\n",
      "           0       0.81      0.85      0.83       886\n",
      "           1       0.78      0.72      0.75       637\n",
      "\n",
      "    accuracy                           0.80      1523\n",
      "   macro avg       0.79      0.79      0.79      1523\n",
      "weighted avg       0.80      0.80      0.80      1523\n",
      "\n"
     ]
    }
   ],
   "source": [
    "y_val_pred_gru = gru_model.predict_classes(val_data_features)\n",
    "print(classification_report(y_val, y_val_pred_gru))"
   ]
  },
  {
   "cell_type": "code",
   "execution_count": 38,
   "metadata": {},
   "outputs": [],
   "source": [
    "import gc, time\n",
    "gc.collect(); time.sleep(3)"
   ]
  },
  {
   "cell_type": "markdown",
   "metadata": {},
   "source": [
    "<b>BiLSTM model on unigrams without pretrained embeddings</b>"
   ]
  },
  {
   "cell_type": "code",
   "execution_count": 33,
   "metadata": {},
   "outputs": [
    {
     "name": "stdout",
     "output_type": "stream",
     "text": [
      "_________________________________________________________________\n",
      "Layer (type)                 Output Shape              Param #   \n",
      "=================================================================\n",
      "embedding_8 (Embedding)      (None, 120, 300)          3000000   \n",
      "_________________________________________________________________\n",
      "dropout_14 (Dropout)         (None, 120, 300)          0         \n",
      "_________________________________________________________________\n",
      "conv1d_8 (Conv1D)            (None, 120, 32)           28832     \n",
      "_________________________________________________________________\n",
      "max_pooling1d_8 (MaxPooling1 (None, 60, 32)            0         \n",
      "_________________________________________________________________\n",
      "bidirectional_8 (Bidirection (None, 256)               165888    \n",
      "_________________________________________________________________\n",
      "dropout_15 (Dropout)         (None, 256)               0         \n",
      "_________________________________________________________________\n",
      "dense_7 (Dense)              (None, 1)                 257       \n",
      "=================================================================\n",
      "Total params: 3,194,977\n",
      "Trainable params: 3,194,977\n",
      "Non-trainable params: 0\n",
      "_________________________________________________________________\n"
     ]
    }
   ],
   "source": [
    "lstm_model = build_model(input_length, max_features, embed_size, use_lstm=True)"
   ]
  },
  {
   "cell_type": "code",
   "execution_count": 34,
   "metadata": {},
   "outputs": [
    {
     "name": "stdout",
     "output_type": "stream",
     "text": [
      "Train on 6090 samples, validate on 1523 samples\n",
      "Epoch 1/3\n",
      "6090/6090 [==============================] - 2s 404us/step - loss: 0.6747 - acc: 0.5665 - val_loss: 0.6210 - val_acc: 0.6481: 0s - loss: 0.6823 - acc: 0.\n",
      "Epoch 2/3\n",
      "6090/6090 [==============================] - 1s 196us/step - loss: 0.5739 - acc: 0.7345 - val_loss: 0.4994 - val_acc: 0.7899\n",
      "Epoch 3/3\n",
      "6090/6090 [==============================] - 1s 195us/step - loss: 0.3709 - acc: 0.8552 - val_loss: 0.4564 - val_acc: 0.8089\n"
     ]
    }
   ],
   "source": [
    "lstm_history = lstm_model.fit(train_data_features, y_train, batch_size=256, epochs=3, \n",
    "              validation_data=[val_data_features, y_val])"
   ]
  },
  {
   "cell_type": "code",
   "execution_count": 35,
   "metadata": {},
   "outputs": [
    {
     "data": {
      "image/png": "[encoded data removed]",
      "text/plain": [
       "<Figure size 1008x432 with 2 Axes>"
      ]
     },
     "metadata": {
      "needs_background": "light"
     },
     "output_type": "display_data"
    }
   ],
   "source": [
    "plot_loss_curves(lstm_history)"
   ]
  },
  {
   "cell_type": "code",
   "execution_count": 36,
   "metadata": {},
   "outputs": [
    {
     "name": "stdout",
     "output_type": "stream",
     "text": [
      "F1 score at threshold 0.2 is 0.7303370786516853\n",
      "F1 score at threshold 0.21 is 0.7313961729270022\n",
      "F1 score at threshold 0.22 is 0.7351040918880115\n",
      "F1 score at threshold 0.23 is 0.738909090909091\n",
      "F1 score at threshold 0.24 is 0.7403072421360644\n",
      "F1 score at threshold 0.25 is 0.7453874538745388\n",
      "F1 score at threshold 0.26 is 0.7498132935026139\n",
      "F1 score at threshold 0.27 is 0.7496229260935144\n",
      "F1 score at threshold 0.28 is 0.7484756097560976\n",
      "F1 score at threshold 0.29 is 0.7486548808608763\n",
      "F1 score at threshold 0.3 is 0.7507739938080495\n",
      "F1 score at threshold 0.31 is 0.7527216174183516\n",
      "F1 score at threshold 0.32 is 0.7547169811320755\n",
      "F1 score at threshold 0.33 is 0.7531645569620254\n",
      "F1 score at threshold 0.34 is 0.7513899920571883\n",
      "F1 score at threshold 0.35 is 0.7527910685805422\n",
      "F1 score at threshold 0.36 is 0.7529976019184652\n",
      "F1 score at threshold 0.37 is 0.7538091419406575\n",
      "F1 score at threshold 0.38 is 0.7526188557614827\n",
      "F1 score at threshold 0.39 is 0.75\n",
      "F1 score at threshold 0.4 is 0.7477551020408163\n",
      "F1 score at threshold 0.41 is 0.7495908346972178\n",
      "F1 score at threshold 0.42 is 0.7510271158586688\n",
      "F1 score at threshold 0.43 is 0.75\n",
      "F1 score at threshold 0.44 is 0.7491694352159469\n",
      "F1 score at threshold 0.45 is 0.7506255212677231\n",
      "F1 score at threshold 0.46 is 0.7508361204013377\n",
      "F1 score at threshold 0.47 is 0.7529411764705883\n",
      "F1 score at threshold 0.48 is 0.7527426160337553\n",
      "F1 score at threshold 0.49 is 0.7529610829103215\n"
     ]
    }
   ],
   "source": [
    "y_val_probs_lstm = lstm_model.predict_proba(val_data_features)\n",
    "for thresh in np.arange(0.2, 0.5, 0.01):\n",
    "    thresh = np.round(thresh, 2)\n",
    "    print(\"F1 score at threshold {0} is {1}\".format(thresh, f1_score(y_val, (y_val_probs_lstm>thresh).astype(int))))"
   ]
  },
  {
   "cell_type": "code",
   "execution_count": 37,
   "metadata": {},
   "outputs": [
    {
     "name": "stdout",
     "output_type": "stream",
     "text": [
      "              precision    recall  f1-score   support\n",
      "\n",
      "           0       0.80      0.89      0.84       886\n",
      "           1       0.82      0.70      0.75       637\n",
      "\n",
      "    accuracy                           0.81      1523\n",
      "   macro avg       0.81      0.79      0.80      1523\n",
      "weighted avg       0.81      0.81      0.81      1523\n",
      "\n"
     ]
    }
   ],
   "source": [
    "y_val_pred_lstm = lstm_model.predict_classes(val_data_features)\n",
    "print(classification_report(y_val, y_val_pred_lstm))"
   ]
  },
  {
   "cell_type": "code",
   "execution_count": 39,
   "metadata": {},
   "outputs": [],
   "source": [
    "gc.collect(); time.sleep(3)"
   ]
  },
  {
   "cell_type": "markdown",
   "metadata": {},
   "source": [
    "<h2>With pre-trained embeddings</h2>\n",
    "\n",
    "As is evident above, we don't have enough data for our own trained embeddings to be useful.  So, we will use pretrained embeddings from the following sources and see how the model performs. \n",
    "- GloVe embeddings from the Stanford NLP Projecs: Twitter (2B tweets, 27B tokens, 1.2M vocab, uncased, 25d, 50d, 100d, & 200d vectors, 1.42 GB download) available at https://nlp.stanford.edu/projects/glove/\n",
    "- WikiNews FastText Embeddings: 1 million word vectors trained on Wikipedia 2017, UMBC webbase corpus and statmt.org news dataset (16B tokens). Available at https://fasttext.cc/docs/en/english-vectors.html\n",
    "- Paragram Embeddings. Available at https://cogcomp.org/page/resource_view/106\n",
    "\n"
   ]
  },
  {
   "cell_type": "markdown",
   "metadata": {},
   "source": [
    "<h3>GloVe</h3>\n",
    "\n",
    "Download the Twitter embeddings from https://nlp.stanford.edu/projects/glove/.  Let's get the embeddings and reformat them for our BiLSTM model. As stated in the description, the pretrained embeddings are of size 200d"
   ]
  },
  {
   "cell_type": "code",
   "execution_count": 64,
   "metadata": {},
   "outputs": [
    {
     "name": "stdout",
     "output_type": "stream",
     "text": [
      "<user> 0.31553 0.53765 0.10177 0.032553 0.003798 0.015364 -0.20344 0.33294 -0.20886 0.10061 0.30976 0.50015 0.32018 0.13537 0.0087039 0.1911 0.24668 -0.060752 -0.43623 0.019302 0.59972 0.13444 0.012801 -0.54052 0.27387 -1.182 -0.27677 0.11279 0.46596 -0.090685 0.24253 0.15654 -0.23618 0.57694 0.17563 -0.01969 0.018295 0.37569 -0.41984 0.22613 -0.20438 -0.076249 0.40356 0.61582 -0.10064 0.23318 0.22808 0.34576 -0.14627 -0.1988 0.033232 -0.84885 -0.25684 0.26369 0.29562 0.1847 -0.20668 -0.013297 0.12233 -0.47751 -0.17202 -0.14577 0.047446 -0.15824 0.054215 -0.19426 -0.081484 0.099009 0.10159 0.043571 0.50245 0.13362 0.065985 0.032969 -0.2017 -0.56905 -0.13203 0.073347 -0.063728 -0.2796 -0.38481 -0.020193 0.22298 -0.059115 0.045198 -0.13995 -0.13299 0.47309 -0.021874 0.38758 -0.074926 -0.0028093 -0.29829 -0.074987 -0.58542 -0.18065 -0.041805 0.41938 0.41004 -0.5911 0.10459 0.10724 0.69768 -0.15901 -0.059596 0.29368 -0.19609 0.39124 -0.29333 -0.0050833 -0.37854 0.33858 0.24782 0.29144 -0.22833 0.19421 -0.055409 0.10322 0.38963 -0.27813 0.21963 0.40014 0.071036 -0.079786 0.19534 -0.69432 -0.093075 -0.13729 -0.54014 0.57165 0.24443 0.036741 0.033606 -0.14398 0.25873 0.089008 0.11109 0.38387 0.19013 -0.23252 -0.26271 -0.26936 -0.32409 0.55236 -0.46158 -0.11086 -0.38417 0.59605 -0.14479 -0.28762 -0.29638 0.21889 -4.1257 0.69382 -0.26307 -0.013691 0.032916 0.017627 -0.02909 0.42807 -0.20815 0.50598 -0.080836 0.45083 -0.11466 -0.27782 -0.038373 0.15672 -0.010899 0.082053 -0.19766 0.20574 -0.075329 0.083754 -0.72767 0.10403 0.42831 0.41023 -0.097314 0.15128 0.39287 -0.17807 -0.029196 0.57502 -0.17823 -0.76488 -0.47383 -0.21984 0.2119 -0.015729 -0.062927 0.26674 -0.23617 0.18109 -0.26583 0.090904 -0.81205 -0.45664 -0.4654 0.52066\n",
      "\n"
     ]
    }
   ],
   "source": [
    "f = open('data/glove.twitter.27B.200d.txt', 'r')\n",
    "print(f.readline())\n",
    "f.close()"
   ]
  },
  {
   "cell_type": "markdown",
   "metadata": {},
   "source": [
    "Let's write a function to create an embedding matrix for each word.  This could take a while.  "
   ]
  },
  {
   "cell_type": "code",
   "execution_count": 65,
   "metadata": {},
   "outputs": [
    {
     "name": "stdout",
     "output_type": "stream",
     "text": [
      "Wall time: 1min 11s\n"
     ]
    }
   ],
   "source": [
    "%%time\n",
    "import numpy as np\n",
    "\n",
    "def get_embeddings(word, *arr): return word, np.asarray(arr, dtype='float32')\n",
    "glove_embeddings = dict(get_embeddings(*v.split(' ')) \n",
    "                  for v in open('data/glove.twitter.27B.200d.txt', encoding='utf-8', errors='ignore')\n",
    "                     if len(v)>100)"
   ]
  },
  {
   "cell_type": "markdown",
   "metadata": {},
   "source": [
    "Now we can create an embedding matrix and a word list from embeddings."
   ]
  },
  {
   "cell_type": "code",
   "execution_count": 66,
   "metadata": {
    "scrolled": true
   },
   "outputs": [
    {
     "name": "stdout",
     "output_type": "stream",
     "text": [
      "Wall time: 4.18 s\n"
     ]
    }
   ],
   "source": [
    "%%time\n",
    "embed_size = 200 # same dimension as the pretrained GloVe embeddings\n",
    "glove_embedding_matrix = np.stack(list(glove_embeddings.values()))\n",
    "glove_words = np.stack(list(glove_embeddings.keys()))"
   ]
  },
  {
   "cell_type": "code",
   "execution_count": 67,
   "metadata": {},
   "outputs": [],
   "source": [
    "gc.collect(); time.sleep(3)"
   ]
  },
  {
   "cell_type": "code",
   "execution_count": 68,
   "metadata": {},
   "outputs": [
    {
     "name": "stdout",
     "output_type": "stream",
     "text": [
      "Number of words in the pre-trained embeddings: 1193514\n",
      "Number of words in our disaster tweet dataset: 18559\n"
     ]
    }
   ],
   "source": [
    "print('Number of words in the pre-trained embeddings:', len(glove_embedding_matrix))\n",
    "print('Number of words in our disaster tweet dataset:', len(tokenizer.word_index))"
   ]
  },
  {
   "cell_type": "markdown",
   "metadata": {},
   "source": [
    "Here is the deal. Some of the words from our disaster tweet set are inevitably not going to be in the pretrained 1.2M set. For these words, we will sample our pretrained embeddings from a normal distribution with the same mean and standard deviation.  Otherwise, if the word exists, we will assign the embeddings from the pretrained embeddings"
   ]
  },
  {
   "cell_type": "code",
   "execution_count": 70,
   "metadata": {},
   "outputs": [
    {
     "data": {
      "text/plain": [
       "(18559, 200)"
      ]
     },
     "execution_count": 70,
     "metadata": {},
     "output_type": "execute_result"
    }
   ],
   "source": [
    "emb_mean, emb_std = glove_embedding_matrix.mean(), glove_embedding_matrix.std()\n",
    "\n",
    "# Initialize the embedding matrix with a random sampling\n",
    "tweet_embedding_matrix = np.random.normal(emb_mean, emb_std, (len(tokenizer.word_index), embed_size))\n",
    "\n",
    "for word, idx in tokenizer.word_index.items():\n",
    "    if idx >= max_features: continue\n",
    "    \n",
    "    # Get the embeddings. If the word is not present, the 'get' attribute of the dictionary will return 'None'\n",
    "    embedding_vector = glove_embeddings.get(word)\n",
    "    \n",
    "    # If not None, assign the pretrained embedding to that word\n",
    "    if embedding_vector is not None: tweet_embedding_matrix[idx] = embedding_vector\n",
    "\n",
    "tweet_embedding_matrix.shape"
   ]
  },
  {
   "cell_type": "code",
   "execution_count": 71,
   "metadata": {},
   "outputs": [
    {
     "data": {
      "text/plain": [
       "array([[ 0.28705916,  0.35818458, -0.41253924, ...,  0.25524504,\n",
       "        -0.38548503,  0.27000984],\n",
       "       [ 0.15491   ,  0.10617   , -0.23609   , ..., -0.43167001,\n",
       "        -0.36938   , -0.20468   ],\n",
       "       [-0.11691   , -0.061485  , -0.46395999, ..., -0.080032  ,\n",
       "        -0.4894    , -0.52283001],\n",
       "       ...,\n",
       "       [-0.90258841,  0.07369912, -0.57129641, ..., -0.51927589,\n",
       "        -0.34590157, -0.12202445],\n",
       "       [ 0.63434447,  0.06408276,  0.49237777, ..., -0.12770484,\n",
       "         0.02668755,  0.59381193],\n",
       "       [ 0.374434  , -0.36851769, -0.26297388, ...,  0.63011018,\n",
       "        -0.23994364, -0.02246314]])"
      ]
     },
     "execution_count": 71,
     "metadata": {},
     "output_type": "execute_result"
    }
   ],
   "source": [
    "tweet_embedding_matrix"
   ]
  },
  {
   "cell_type": "code",
   "execution_count": 72,
   "metadata": {},
   "outputs": [],
   "source": [
    "gc.collect(); time.sleep(3)"
   ]
  },
  {
   "cell_type": "code",
   "execution_count": 108,
   "metadata": {},
   "outputs": [],
   "source": [
    "def build_pre_embed_model(embedding_matrix, input_length, use_lstm=False):\n",
    "    model = Sequential()\n",
    "    model.add(Embedding(\n",
    "        input_dim = embedding_matrix.shape[0],\n",
    "        output_dim = embedding_matrix.shape[1],\n",
    "        input_length = input_length,\n",
    "        weights = [embedding_matrix],\n",
    "        trainable = False))\n",
    "    \n",
    "    model.add(Dropout(0.2))\n",
    "    model.add(Conv1D(filters=32, kernel_size=3, padding='same', activation='relu'))\n",
    "    model.add(MaxPool1D(pool_size=2))\n",
    "    \n",
    "    if use_lstm:\n",
    "        model.add(Bidirectional(CuDNNLSTM(128)))\n",
    "    else:\n",
    "        model.add(Bidirectional(CuDNNGRU(128)))\n",
    "\n",
    "    model.add(Dropout(0.1))\n",
    "    model.add(Dense(1, activation='sigmoid'))\n",
    "    \n",
    "    model.compile(loss='binary_crossentropy', optimizer='adam', metrics=['accuracy'])\n",
    "    model.summary()\n",
    "    \n",
    "    return model"
   ]
  },
  {
   "cell_type": "code",
   "execution_count": 82,
   "metadata": {},
   "outputs": [
    {
     "name": "stdout",
     "output_type": "stream",
     "text": [
      "_________________________________________________________________\n",
      "Layer (type)                 Output Shape              Param #   \n",
      "=================================================================\n",
      "embedding_12 (Embedding)     (None, 120, 200)          3711800   \n",
      "_________________________________________________________________\n",
      "dropout_22 (Dropout)         (None, 120, 200)          0         \n",
      "_________________________________________________________________\n",
      "conv1d_12 (Conv1D)           (None, 120, 32)           19232     \n",
      "_________________________________________________________________\n",
      "max_pooling1d_12 (MaxPooling (None, 60, 32)            0         \n",
      "_________________________________________________________________\n",
      "bidirectional_12 (Bidirectio (None, 256)               165888    \n",
      "_________________________________________________________________\n",
      "dropout_23 (Dropout)         (None, 256)               0         \n",
      "_________________________________________________________________\n",
      "dense_11 (Dense)             (None, 1)                 257       \n",
      "=================================================================\n",
      "Total params: 3,897,177\n",
      "Trainable params: 185,377\n",
      "Non-trainable params: 3,711,800\n",
      "_________________________________________________________________\n"
     ]
    }
   ],
   "source": [
    "glove_model = build_pre_embed_model(embedding_matrix=tweet_embedding_matrix, \n",
    "                                    input_length=input_length, use_lstm=True)"
   ]
  },
  {
   "cell_type": "code",
   "execution_count": 83,
   "metadata": {
    "scrolled": false
   },
   "outputs": [
    {
     "name": "stdout",
     "output_type": "stream",
     "text": [
      "Train on 6090 samples, validate on 1523 samples\n",
      "Epoch 1/10\n",
      "6090/6090 [==============================] - 2s 378us/step - loss: 0.6287 - acc: 0.6365 - val_loss: 0.5060 - val_acc: 0.7577\n",
      "Epoch 2/10\n",
      "6090/6090 [==============================] - 1s 128us/step - loss: 0.4835 - acc: 0.7790 - val_loss: 0.4517 - val_acc: 0.7925\n",
      "Epoch 3/10\n",
      "6090/6090 [==============================] - 1s 128us/step - loss: 0.4426 - acc: 0.8038 - val_loss: 0.4446 - val_acc: 0.8102\n",
      "Epoch 4/10\n",
      "6090/6090 [==============================] - 1s 128us/step - loss: 0.4271 - acc: 0.8079 - val_loss: 0.4339 - val_acc: 0.8102\n",
      "Epoch 5/10\n",
      "6090/6090 [==============================] - 1s 129us/step - loss: 0.4131 - acc: 0.8136 - val_loss: 0.4350 - val_acc: 0.8096\n",
      "Epoch 6/10\n",
      "6090/6090 [==============================] - 1s 129us/step - loss: 0.4015 - acc: 0.8218 - val_loss: 0.4421 - val_acc: 0.8129\n",
      "Epoch 7/10\n",
      "6090/6090 [==============================] - 1s 129us/step - loss: 0.3929 - acc: 0.8302 - val_loss: 0.4392 - val_acc: 0.8004\n",
      "Epoch 8/10\n",
      "6090/6090 [==============================] - 1s 128us/step - loss: 0.3854 - acc: 0.8315 - val_loss: 0.4457 - val_acc: 0.8148\n",
      "Epoch 9/10\n",
      "6090/6090 [==============================] - 1s 128us/step - loss: 0.3702 - acc: 0.8397 - val_loss: 0.4353 - val_acc: 0.8083\n",
      "Epoch 10/10\n",
      "6090/6090 [==============================] - 1s 129us/step - loss: 0.3629 - acc: 0.8397 - val_loss: 0.4268 - val_acc: 0.8116\n"
     ]
    }
   ],
   "source": [
    "glove_history = glove_model.fit(train_data_features, y_train, batch_size=256, epochs=10, \n",
    "                    validation_data=[val_data_features, y_val])"
   ]
  },
  {
   "cell_type": "code",
   "execution_count": 85,
   "metadata": {},
   "outputs": [
    {
     "data": {
      "image/png": "[encoded data removed]",
      "text/plain": [
       "<Figure size 1008x432 with 2 Axes>"
      ]
     },
     "metadata": {
      "needs_background": "light"
     },
     "output_type": "display_data"
    }
   ],
   "source": [
    "plot_loss_curves(glove_history)"
   ]
  },
  {
   "cell_type": "code",
   "execution_count": 86,
   "metadata": {},
   "outputs": [
    {
     "name": "stdout",
     "output_type": "stream",
     "text": [
      "              precision    recall  f1-score   support\n",
      "\n",
      "           0       0.81      0.89      0.85       886\n",
      "           1       0.82      0.70      0.76       637\n",
      "\n",
      "    accuracy                           0.81      1523\n",
      "   macro avg       0.81      0.80      0.80      1523\n",
      "weighted avg       0.81      0.81      0.81      1523\n",
      "\n"
     ]
    }
   ],
   "source": [
    "y_val_pred_glove = glove_model.predict_classes(val_data_features)\n",
    "print(classification_report(y_val, y_val_pred_glove))"
   ]
  },
  {
   "cell_type": "code",
   "execution_count": 87,
   "metadata": {},
   "outputs": [
    {
     "name": "stdout",
     "output_type": "stream",
     "text": [
      "F1 score at threshold 0.2 is 0.7366310160427808\n",
      "F1 score at threshold 0.21 is 0.7391304347826086\n",
      "F1 score at threshold 0.22 is 0.7443142660234322\n",
      "F1 score at threshold 0.23 is 0.7463312368972747\n",
      "F1 score at threshold 0.24 is 0.7450704225352113\n",
      "F1 score at threshold 0.25 is 0.7501779359430605\n",
      "F1 score at threshold 0.26 is 0.7525179856115107\n",
      "F1 score at threshold 0.27 is 0.7514450867052024\n",
      "F1 score at threshold 0.28 is 0.7538349159970781\n",
      "F1 score at threshold 0.29 is 0.7583148558758316\n",
      "F1 score at threshold 0.3 is 0.7664670658682636\n",
      "F1 score at threshold 0.31 is 0.7650602409638554\n",
      "F1 score at threshold 0.32 is 0.7659574468085107\n",
      "F1 score at threshold 0.33 is 0.7667682926829268\n",
      "F1 score at threshold 0.34 is 0.7653374233128835\n",
      "F1 score at threshold 0.35 is 0.7657935285053928\n",
      "F1 score at threshold 0.36 is 0.7710280373831776\n",
      "F1 score at threshold 0.37 is 0.7717647058823529\n",
      "F1 score at threshold 0.38 is 0.7680126682501979\n",
      "F1 score at threshold 0.39 is 0.7750200160128102\n",
      "F1 score at threshold 0.4 is 0.7733118971061093\n",
      "F1 score at threshold 0.41 is 0.7708502024291498\n",
      "F1 score at threshold 0.42 is 0.7709861450692747\n",
      "F1 score at threshold 0.43 is 0.7712418300653595\n",
      "F1 score at threshold 0.44 is 0.7703703703703704\n",
      "F1 score at threshold 0.45 is 0.7692307692307693\n",
      "F1 score at threshold 0.46 is 0.7676935886761034\n",
      "F1 score at threshold 0.47 is 0.7661357921207042\n",
      "F1 score at threshold 0.48 is 0.765349032800673\n",
      "F1 score at threshold 0.49 is 0.7628691983122363\n",
      "F1 score at threshold 0.5 is 0.7565733672603902\n"
     ]
    }
   ],
   "source": [
    "y_val_probs_glove = glove_model.predict_proba(val_data_features)\n",
    "\n",
    "for thresh in np.arange(0.2, 0.501, 0.01):\n",
    "    thresh = np.round(thresh, 2)\n",
    "    print('F1 score at threshold {0} is {1}'.format(thresh, f1_score(y_val, y_val_probs_glove>thresh)))"
   ]
  },
  {
   "cell_type": "markdown",
   "metadata": {},
   "source": [
    "Maximum F1 score using GloVe is 0.775 at a threshold of 0.39"
   ]
  },
  {
   "cell_type": "code",
   "execution_count": 88,
   "metadata": {},
   "outputs": [],
   "source": [
    "gc.collect(); time.sleep(3)"
   ]
  },
  {
   "cell_type": "markdown",
   "metadata": {},
   "source": [
    "<h3>WikiNews FastText Embeddings</h3>\n",
    "\n",
    "As opposed to GloVe (or Word2Vec), which use each word as the smallest unit for training, FastText uses n-gram characters as the smallest unit. For example, the word vector ,\"climb\", can be broken down into separate word vectors units as \"cl\",\"cli\",\"clim\" \"climb\".  FastText can generate better word embeddings for rare words, or even words not seen during training because the n-gram character vectors are shared with other words. This is something that Word2Vec and GLOVE cannot achieve.\n",
    "\n",
    "Download the wiki-news-300d-1M embeddings from https://fasttext.cc/docs/en/english-vectors.html.  We'll do pretty much the same thing as we did for pretrained GloVe embeddings with some minor modifications. "
   ]
  },
  {
   "cell_type": "code",
   "execution_count": 89,
   "metadata": {},
   "outputs": [
    {
     "name": "stdout",
     "output_type": "stream",
     "text": [
      "999994 300\n",
      "\n",
      ", 0.1073 0.0089 0.0006 0.0055 -0.0646 -0.0600 0.0450 -0.0133 -0.0357 0.0430 -0.0356 -0.0032 0.0073 -0.0001 0.0258 -0.0166 0.0075 0.0686 0.0392 0.0753 0.0115 -0.0087 0.0421 0.0265 -0.0601 0.2420 0.0199 -0.0739 -0.0031 -0.0263 -0.0062 0.0168 -0.0357 -0.0249 0.0190 -0.0184 -0.0537 0.1420 0.0600 0.0226 -0.0038 -0.0675 -0.0036 -0.0080 0.0570 0.0208 0.0223 -0.0256 -0.0153 0.0022 -0.0482 0.0131 -0.6016 -0.0088 0.0106 0.0229 0.0336 0.0071 0.0887 0.0237 -0.0290 -0.0405 -0.0125 0.0147 0.0475 0.0647 0.0474 0.0199 0.0408 0.0322 0.0036 0.0350 -0.0723 -0.0305 0.0184 -0.0026 0.0240 -0.0160 -0.0308 0.0434 0.0147 -0.0457 -0.0267 -0.1703 -0.0099 0.0417 0.0235 -0.0260 -0.1519 -0.0116 -0.0306 -0.0413 0.0330 0.0723 0.0365 -0.0001 0.0042 0.0346 0.0277 -0.0305 0.0784 -0.0404 0.0187 -0.0225 -0.0206 -0.0179 -0.2428 0.0669 0.0523 0.0527 0.0149 -0.0708 -0.0987 0.0263 -0.0611 0.0302 0.0216 0.0313 -0.0140 -0.2495 -0.0346 -0.0480 0.0250 0.2130 -0.0330 -0.1553 -0.0292 -0.0346 0.1074 0.0010 -0.0117 -0.0057 -0.1280 -0.0038 0.0130 -0.1157 -0.0108 0.0275 0.0158 -0.0169 0.0070 0.0247 0.0510 1.0292 -0.0283 -0.0310 -0.0026 -0.0343 0.0578 0.0444 0.0812 -0.0211 -0.0872 0.0169 0.0499 0.0485 0.0227 -0.0323 -0.0035 0.0435 -0.0275 0.0154 0.0135 -0.0484 -0.0699 -0.0502 0.2745 -0.0003 -0.0371 0.0517 -0.0908 0.0013 0.0360 0.0280 0.0839 0.0980 -0.0490 -0.2423 -0.0142 0.0024 -0.0207 0.0012 0.0088 -0.0143 -0.0197 0.0515 -0.0085 0.0257 0.2154 0.0301 0.0211 0.0530 -0.0005 0.0177 0.0016 -0.0053 -0.0162 -0.0223 -0.1862 0.0398 0.0658 -0.0962 -0.0076 -0.0075 -0.0342 -0.0265 0.0420 0.0522 -0.0266 0.0201 -0.1331 -0.0367 0.0351 0.0518 -0.0087 0.0599 -0.1086 -0.0188 0.0481 0.0105 -0.0060 0.0151 -0.0031 0.0077 -0.0276 -0.0373 -0.0203 0.0472 0.0246 0.1440 0.0542 -0.0225 0.2495 0.1617 0.0038 0.1119 -0.0230 -0.0785 0.0250 -0.0616 -0.0485 0.0225 0.0281 0.0041 0.0112 0.0172 0.0291 -0.0282 0.0026 0.4055 0.0392 0.0088 0.0228 0.0299 0.1195 0.0545 -0.0020 0.0020 0.0490 0.0145 -0.0086 0.0098 -0.0236 0.0171 -0.0765 -0.0400 0.0128 0.0011 0.0042 0.0244 0.0075 0.0200 0.0201 0.0196 -0.0377 -0.0432 -0.0073 -0.0021 0.0183 0.0076 0.1805 -0.0551 0.0075 -0.0516 0.0420 -0.0068 -0.0711 -0.1408 0.0504 0.0276 0.0470 0.0323 -0.0219 0.0010 0.0089 0.0276 0.0186 0.0050 0.1173 -0.0400\n",
      "\n"
     ]
    }
   ],
   "source": [
    "f = open('data/wiki-news-300d-1M.vec', 'r')\n",
    "print(f.readline())\n",
    "print(f.readline())\n",
    "f.close()"
   ]
  },
  {
   "cell_type": "markdown",
   "metadata": {},
   "source": [
    "Let's write a function to create an embedding matrix for each word."
   ]
  },
  {
   "cell_type": "code",
   "execution_count": 91,
   "metadata": {},
   "outputs": [
    {
     "name": "stdout",
     "output_type": "stream",
     "text": [
      "Wall time: 1min 22s\n"
     ]
    }
   ],
   "source": [
    "%%time\n",
    "import numpy as np\n",
    "\n",
    "def get_embeddings(word, *arr): return word, np.asarray(arr, dtype='float32')\n",
    "fasttext_embeddings = dict(get_embeddings(*v.split(' ')) \n",
    "                  for v in open('data/wiki-news-300d-1M.vec', encoding='utf-8', errors='ignore') \n",
    "                     if len(v)>100)"
   ]
  },
  {
   "cell_type": "markdown",
   "metadata": {},
   "source": [
    "Now we can create an embedding matrix and a word list from embeddings. This will also take a while"
   ]
  },
  {
   "cell_type": "code",
   "execution_count": 92,
   "metadata": {
    "scrolled": true
   },
   "outputs": [
    {
     "name": "stdout",
     "output_type": "stream",
     "text": [
      "Wall time: 3.5 s\n"
     ]
    }
   ],
   "source": [
    "%%time\n",
    "embed_size = 300 # same dimension as the pretrained embeddings\n",
    "fasttext_embedding_matrix = np.stack(list(fasttext_embeddings.values())) \n",
    "fasttext_words = np.stack(list(fasttext_embeddings.keys()))"
   ]
  },
  {
   "cell_type": "code",
   "execution_count": 94,
   "metadata": {},
   "outputs": [
    {
     "name": "stdout",
     "output_type": "stream",
     "text": [
      "Number of words in the pre-trained embeddings: 999994\n",
      "Number of words in our disaster tweet dataset: 18559\n"
     ]
    }
   ],
   "source": [
    "print('Number of words in the pre-trained embeddings:', len(fasttext_embedding_matrix))\n",
    "print('Number of words in our disaster tweet dataset:', len(tokenizer.word_index))"
   ]
  },
  {
   "cell_type": "code",
   "execution_count": 98,
   "metadata": {},
   "outputs": [
    {
     "data": {
      "text/plain": [
       "(18559, 300)"
      ]
     },
     "execution_count": 98,
     "metadata": {},
     "output_type": "execute_result"
    }
   ],
   "source": [
    "emb_mean, emb_std = fasttext_embedding_matrix.mean(), fasttext_embedding_matrix.std()\n",
    "\n",
    "# Initialize the embedding matrix with a random sampling\n",
    "tweet_embedding_matrix = np.random.normal(emb_mean, emb_std, (len(tokenizer.word_index), embed_size))\n",
    "for word, idx in tokenizer.word_index.items():\n",
    "    if idx >= max_features: continue\n",
    "    \n",
    "    # Get the embeddings. If the word is not present, the 'get' attribute of the dictionary will return 'None'\n",
    "    embedding_vector = fasttext_embeddings.get(word)\n",
    "    \n",
    "    # If not None, assign the pretrained embedding to that word\n",
    "    if embedding_vector is not None: tweet_embedding_matrix[idx] = embedding_vector\n",
    "\n",
    "tweet_embedding_matrix.shape"
   ]
  },
  {
   "cell_type": "code",
   "execution_count": 113,
   "metadata": {},
   "outputs": [
    {
     "name": "stdout",
     "output_type": "stream",
     "text": [
      "_________________________________________________________________\n",
      "Layer (type)                 Output Shape              Param #   \n",
      "=================================================================\n",
      "embedding_18 (Embedding)     (None, 120, 300)          5567700   \n",
      "_________________________________________________________________\n",
      "dropout_34 (Dropout)         (None, 120, 300)          0         \n",
      "_________________________________________________________________\n",
      "conv1d_18 (Conv1D)           (None, 120, 32)           28832     \n",
      "_________________________________________________________________\n",
      "max_pooling1d_18 (MaxPooling (None, 60, 32)            0         \n",
      "_________________________________________________________________\n",
      "bidirectional_18 (Bidirectio (None, 256)               165888    \n",
      "_________________________________________________________________\n",
      "dropout_35 (Dropout)         (None, 256)               0         \n",
      "_________________________________________________________________\n",
      "dense_17 (Dense)             (None, 1)                 257       \n",
      "=================================================================\n",
      "Total params: 5,762,677\n",
      "Trainable params: 194,977\n",
      "Non-trainable params: 5,567,700\n",
      "_________________________________________________________________\n"
     ]
    }
   ],
   "source": [
    "fasttext_model = build_pre_embed_model(embedding_matrix=tweet_embedding_matrix, \n",
    "                         input_length=input_length, use_lstm=True)"
   ]
  },
  {
   "cell_type": "code",
   "execution_count": 114,
   "metadata": {
    "scrolled": false
   },
   "outputs": [
    {
     "name": "stdout",
     "output_type": "stream",
     "text": [
      "Train on 6090 samples, validate on 1523 samples\n",
      "Epoch 1/10\n",
      "6090/6090 [==============================] - 3s 511us/step - loss: 0.6565 - acc: 0.5977 - val_loss: 0.5779 - val_acc: 0.7137\n",
      "Epoch 2/10\n",
      "6090/6090 [==============================] - 1s 144us/step - loss: 0.5230 - acc: 0.7502 - val_loss: 0.4830 - val_acc: 0.7728\n",
      "Epoch 3/10\n",
      "6090/6090 [==============================] - 1s 144us/step - loss: 0.4538 - acc: 0.7966 - val_loss: 0.4434 - val_acc: 0.8070\n",
      "Epoch 4/10\n",
      "6090/6090 [==============================] - 1s 145us/step - loss: 0.4264 - acc: 0.8115 - val_loss: 0.4307 - val_acc: 0.8030\n",
      "Epoch 5/10\n",
      "6090/6090 [==============================] - 1s 144us/step - loss: 0.4123 - acc: 0.8187 - val_loss: 0.4212 - val_acc: 0.8102\n",
      "Epoch 6/10\n",
      "6090/6090 [==============================] - 1s 144us/step - loss: 0.4025 - acc: 0.8240 - val_loss: 0.4195 - val_acc: 0.8076\n",
      "Epoch 7/10\n",
      "6090/6090 [==============================] - 1s 144us/step - loss: 0.3962 - acc: 0.8307 - val_loss: 0.4254 - val_acc: 0.8056\n",
      "Epoch 8/10\n",
      "6090/6090 [==============================] - 1s 145us/step - loss: 0.3843 - acc: 0.8345 - val_loss: 0.4180 - val_acc: 0.8135\n",
      "Epoch 9/10\n",
      "6090/6090 [==============================] - 1s 144us/step - loss: 0.3762 - acc: 0.8425 - val_loss: 0.4190 - val_acc: 0.8155\n",
      "Epoch 10/10\n",
      "6090/6090 [==============================] - 1s 144us/step - loss: 0.3644 - acc: 0.8484 - val_loss: 0.4163 - val_acc: 0.8142\n"
     ]
    }
   ],
   "source": [
    "fasttext_history = fasttext_model.fit(train_data_features, y_train, batch_size=256, epochs=10, \n",
    "                    validation_data=[val_data_features, y_val])"
   ]
  },
  {
   "cell_type": "code",
   "execution_count": 115,
   "metadata": {},
   "outputs": [
    {
     "data": {
      "image/png": "[encoded data removed]",
      "text/plain": [
       "<Figure size 1008x432 with 2 Axes>"
      ]
     },
     "metadata": {
      "needs_background": "light"
     },
     "output_type": "display_data"
    }
   ],
   "source": [
    "plot_loss_curves(fasttext_history)"
   ]
  },
  {
   "cell_type": "code",
   "execution_count": 116,
   "metadata": {},
   "outputs": [
    {
     "name": "stdout",
     "output_type": "stream",
     "text": [
      "              precision    recall  f1-score   support\n",
      "\n",
      "           0       0.79      0.93      0.85       886\n",
      "           1       0.87      0.65      0.75       637\n",
      "\n",
      "    accuracy                           0.81      1523\n",
      "   macro avg       0.83      0.79      0.80      1523\n",
      "weighted avg       0.82      0.81      0.81      1523\n",
      "\n"
     ]
    }
   ],
   "source": [
    "y_val_pred_fasttext = fasttext_model.predict_classes(val_data_features)\n",
    "print(classification_report(y_val, y_val_pred_fasttext))"
   ]
  },
  {
   "cell_type": "code",
   "execution_count": 117,
   "metadata": {},
   "outputs": [
    {
     "name": "stdout",
     "output_type": "stream",
     "text": [
      "F1 score at threshold 0.2 is 0.7536231884057971\n",
      "F1 score at threshold 0.21 is 0.7594936708860759\n",
      "F1 score at threshold 0.22 is 0.7658045977011494\n",
      "F1 score at threshold 0.23 is 0.767559739319334\n",
      "F1 score at threshold 0.24 is 0.7661764705882353\n",
      "F1 score at threshold 0.25 is 0.7719821162444113\n",
      "F1 score at threshold 0.26 is 0.7723516153268218\n",
      "F1 score at threshold 0.27 is 0.770053475935829\n",
      "F1 score at threshold 0.28 is 0.7729022324865281\n",
      "F1 score at threshold 0.29 is 0.7736434108527133\n",
      "F1 score at threshold 0.3 is 0.7727272727272727\n",
      "F1 score at threshold 0.31 is 0.7715415019762847\n",
      "F1 score at threshold 0.32 is 0.7710651828298886\n",
      "F1 score at threshold 0.33 is 0.7733118971061093\n",
      "F1 score at threshold 0.34 is 0.7743506493506495\n",
      "F1 score at threshold 0.35 is 0.772875816993464\n",
      "F1 score at threshold 0.36 is 0.7699917559769167\n",
      "F1 score at threshold 0.37 is 0.7684647302904565\n",
      "F1 score at threshold 0.38 is 0.7644593461860855\n",
      "F1 score at threshold 0.39 is 0.7618243243243243\n",
      "F1 score at threshold 0.4 is 0.7616624257845631\n",
      "F1 score at threshold 0.41 is 0.7592116538131962\n",
      "F1 score at threshold 0.42 is 0.7575496117342536\n",
      "F1 score at threshold 0.43 is 0.759098786828423\n",
      "F1 score at threshold 0.44 is 0.7571801566579636\n",
      "F1 score at threshold 0.45 is 0.7537248028045574\n",
      "F1 score at threshold 0.46 is 0.7537511032656663\n",
      "F1 score at threshold 0.47 is 0.7502222222222222\n",
      "F1 score at threshold 0.48 is 0.7493309545049064\n",
      "F1 score at threshold 0.49 is 0.7473118279569891\n",
      "F1 score at threshold 0.5 is 0.7457322551662174\n"
     ]
    }
   ],
   "source": [
    "y_val_probs_fasttext = fasttext_model.predict_proba(val_data_features)\n",
    "\n",
    "for thresh in np.arange(0.2, 0.501, 0.01):\n",
    "    thresh = np.round(thresh, 2)\n",
    "    print('F1 score at threshold {0} is {1}'.format(thresh, f1_score(y_val, y_val_probs_fasttext>thresh)))"
   ]
  },
  {
   "cell_type": "markdown",
   "metadata": {},
   "source": [
    "Maximum F1 score using FastText is 0.774 at a threshold of 0.29"
   ]
  },
  {
   "cell_type": "code",
   "execution_count": 118,
   "metadata": {},
   "outputs": [],
   "source": [
    "gc.collect(); time.sleep(3)"
   ]
  },
  {
   "cell_type": "markdown",
   "metadata": {},
   "source": [
    "<h3>Paragram Embeddings</h3>"
   ]
  },
  {
   "cell_type": "code",
   "execution_count": 119,
   "metadata": {},
   "outputs": [
    {
     "name": "stdout",
     "output_type": "stream",
     "text": [
      ", -0.257125788774 0.809895659891 0.00352934730227 -0.261192139319 0.0475149130921 0.31447672109 0.282113045078 -0.308695022335 -0.307101047699 1.9226355407 -0.222033484854 0.24893029427 0.238734438728 -0.171986103109 -0.513283578576 0.00616461951274 -0.109530471451 1.55904316215 -0.0622845318458 0.054242491735 -0.0587660591309 0.051181797445 -0.000436753397368 -0.393734510549 0.113699988029 -0.206368505165 0.111778509742 0.094304986534 0.527331864307 -0.184620014155 0.228430702474 0.0416477851414 -0.115934728255 0.282809443813 0.584579772995 -0.0475815430781 0.218655725173 -0.0159711145264 -0.184448274772 0.291061497788 -0.0623817338328 -0.331140302287 0.0833015222404 0.0060065082742 -0.118001313175 0.0114101281466 -0.301397683421 0.155064814567 0.247375429911 0.0104703282316 0.117448779329 0.293554545694 -0.0849206293849 0.0628167357461 -0.484696455189 0.00573283599985 0.235655442401 -0.16885329547 0.269412322296 0.129659711866 -0.0923916881997 0.0912989873214 0.274665827254 0.161878808677 0.0126215936053 -0.261250838623 0.0401077210528 -0.0985990974473 -0.170548217333 0.501676435391 0.0158649630041 0.153560425823 0.0723533209571 -0.111088719945 -0.0221821832131 -0.0233006787928 -0.182922277542 -0.281393763222 -0.0206720091584 0.55284477104 -0.505420325988 0.117939735376 0.402824861194 0.0861706512058 0.028746608865 -0.562466589225 0.615370529393 -0.0962910936031 0.597365577779 0.37051662111 0.3163695472 -0.00492592791355 0.284990688107 0.223917366825 -0.0605854447828 -0.374979116707 -0.603199986214 -0.130521563634 -0.454154223357 -0.105947323662 -0.139568037094 0.315564364374 -0.47823843445 -0.185250229021 -0.147022291462 0.73919864083 -0.395243447758 -0.00292153861788 0.157927063984 0.198375307467 0.0202339319274 -0.111572244819 0.21409344758 -0.467021553267 -0.279860284757 -0.0306741298261 0.115464156092 -0.795712437734 -0.0304413116594 -0.398879923424 0.146741004221 0.27812924859 0.140431269651 0.257860043852 -0.285826650147 0.152656434898 0.151505713265 0.134732099406 0.248444162947 -0.11713651306 0.177648252475 -0.433827841665 -0.00743784019655 -0.147656375286 -0.118499646095 0.322664291389 -0.225593084832 -0.184992559445 -0.153535643342 0.0878499974256 -0.516256371461 0.861399483143 0.733572689107 0.00930007044316 -0.261377343462 0.319702719176 0.28733844897 -0.14930206033 -0.279114579748 -0.0183404851778 -0.0867057619188 0.0303699374186 0.566069396633 0.303689595334 0.316642356138 0.153821209442 0.287508903418 -0.191798450742 0.117286476021 -0.00852014977117 0.0791468502425 0.127255970904 -0.0859855338972 -0.107645125816 -0.210657337696 0.207046285117 -0.073913798954 -0.0861972361849 0.210717496042 0.452347099935 -0.113193821804 0.0835543617606 -0.661283075512 0.281016840955 -0.17584495927 -0.0896361821775 -0.163406010586 -0.370537451409 0.0143802116096 -0.681347186026 0.0186705318826 -0.250426935098 -0.253757830852 -0.22316538704 0.249482081333 -0.406552739856 0.211726357283 0.100451735432 0.171530661474 0.182964541819 0.0767005584318 0.117695059053 0.407552410902 -0.157414669062 -0.352671818682 -0.357697976778 -0.063256752078 -0.502070369387 0.0748574283343 0.372752975667 -0.255725631369 0.0755656638967 -0.197395701351 -0.200460212183 0.256995641775 -0.434121993953 0.12490998984 -0.0592614941 0.0225615587183 -0.181063527735 -0.473740208007 -0.264733934833 0.0603373905607 0.058755750206 0.325305596789 -0.202013929526 0.206839917213 -0.00762498716557 0.00826275179336 0.0739805025362 -0.046501821649 0.26148986634 -0.0891087656464 0.249249336848 0.329827442485 0.168509555785 -0.259331276505 0.236015384395 -0.048494006036 -0.00635391684192 -0.0534992498685 0.135479568581 0.162377579386 0.253485001367 -0.473191590278 0.227742324174 -0.247795992192 -0.12986867484 -0.0214547021385 0.0399298826549 0.080873521053 -0.192016847902 0.207209011496 -0.417103087537 0.273412273259 0.0478071841882 -0.308101030411 -0.2067201744 -0.00724969164261 0.683252524971 0.226906583596 0.00813156757107 -0.380268354373 -0.0506003163936 -0.0260247468052 0.188281437508 0.00488237417239 -0.230988927998 -0.27977362623 0.20069688062 -0.0919539880937 -0.0070326441006 0.271720764821 0.463453560276 -0.136245265907 -0.246522029232 -0.132801196947 -0.321483355727 0.342869668321 0.162904155729 -0.819709941917 -0.294458233254 0.0608258630717 0.0232246228741 -0.688628755528 0.0102211124595 -0.0366000375597 0.134315940731 -0.0837789122509 0.435700803194 0.902601835964 -0.444801911809 0.445655335938 -0.409887785832 -0.0934736169959 0.03605558925 0.182083764915 -0.225611975807 0.378065319498 -0.29877624824 -0.216396561004 -0.249021062017 -0.184113686784 -0.065199535692 -0.250193826791 -0.0257118769933 0.098751229457 -0.0363280477552 -0.255567723518 0.0868508714253\n",
      "\n"
     ]
    }
   ],
   "source": [
    "f = open('data/paragram_300_sl999.txt', 'r')\n",
    "print(f.readline())\n",
    "f.close()"
   ]
  },
  {
   "cell_type": "code",
   "execution_count": 120,
   "metadata": {},
   "outputs": [
    {
     "name": "stdout",
     "output_type": "stream",
     "text": [
      "Wall time: 2min 25s\n"
     ]
    }
   ],
   "source": [
    "%%time\n",
    "def get_embeddings(word, *arr): return word, np.asarray(arr, dtype='float32')\n",
    "paragram_embeddings = dict(get_embeddings(*v.split(' ')) \n",
    "                  for v in open('data/paragram_300_sl999.txt', encoding='utf-8', errors='ignore')\n",
    "                     if len(v)>100)"
   ]
  },
  {
   "cell_type": "code",
   "execution_count": 121,
   "metadata": {
    "scrolled": true
   },
   "outputs": [
    {
     "name": "stdout",
     "output_type": "stream",
     "text": [
      "Wall time: 48.1 s\n"
     ]
    }
   ],
   "source": [
    "%%time\n",
    "embed_size = 300\n",
    "paragram_embedding_matrix = np.stack(list(paragram_embeddings.values()))\n",
    "paragram_words = np.stack(list(paragram_embeddings.keys()))"
   ]
  },
  {
   "cell_type": "code",
   "execution_count": 122,
   "metadata": {},
   "outputs": [
    {
     "name": "stdout",
     "output_type": "stream",
     "text": [
      "Number of words in the pre-trained embeddings: 1703755\n",
      "Number of words in our disaster tweet dataset: 18559\n"
     ]
    }
   ],
   "source": [
    "print('Number of words in the pre-trained embeddings:', len(paragram_embeddings))\n",
    "print('Number of words in our disaster tweet dataset:', len(tokenizer.word_index))"
   ]
  },
  {
   "cell_type": "code",
   "execution_count": 123,
   "metadata": {},
   "outputs": [
    {
     "data": {
      "text/plain": [
       "(18559, 300)"
      ]
     },
     "execution_count": 123,
     "metadata": {},
     "output_type": "execute_result"
    }
   ],
   "source": [
    "emb_mean, emb_std = paragram_embedding_matrix.mean(), paragram_embedding_matrix.std()\n",
    "\n",
    "# Initialize the embedding matrix with a random sampling\n",
    "tweet_embedding_matrix = np.random.normal(emb_mean, emb_std, (len(tokenizer.word_index), embed_size))\n",
    "for word, idx in tokenizer.word_index.items():\n",
    "    if idx >= max_features: continue\n",
    "    \n",
    "    # Get the embeddings. If the word is not present, the 'get' attribute of the dictionary will return 'None'\n",
    "    embedding_vector = paragram_embeddings.get(word)\n",
    "    \n",
    "    # If not None, assign the pretrained embedding to that word\n",
    "    if embedding_vector is not None: tweet_embedding_matrix[idx] = embedding_vector\n",
    "\n",
    "tweet_embedding_matrix.shape"
   ]
  },
  {
   "cell_type": "code",
   "execution_count": 131,
   "metadata": {},
   "outputs": [
    {
     "name": "stdout",
     "output_type": "stream",
     "text": [
      "_________________________________________________________________\n",
      "Layer (type)                 Output Shape              Param #   \n",
      "=================================================================\n",
      "embedding_22 (Embedding)     (None, 120, 300)          5567700   \n",
      "_________________________________________________________________\n",
      "dropout_42 (Dropout)         (None, 120, 300)          0         \n",
      "_________________________________________________________________\n",
      "conv1d_22 (Conv1D)           (None, 120, 32)           28832     \n",
      "_________________________________________________________________\n",
      "max_pooling1d_22 (MaxPooling (None, 60, 32)            0         \n",
      "_________________________________________________________________\n",
      "bidirectional_22 (Bidirectio (None, 256)               165888    \n",
      "_________________________________________________________________\n",
      "dropout_43 (Dropout)         (None, 256)               0         \n",
      "_________________________________________________________________\n",
      "dense_21 (Dense)             (None, 1)                 257       \n",
      "=================================================================\n",
      "Total params: 5,762,677\n",
      "Trainable params: 194,977\n",
      "Non-trainable params: 5,567,700\n",
      "_________________________________________________________________\n"
     ]
    }
   ],
   "source": [
    "paragram_model = build_pre_embed_model(embedding_matrix=tweet_embedding_matrix, \n",
    "                         input_length=input_length, use_lstm=True)"
   ]
  },
  {
   "cell_type": "code",
   "execution_count": 132,
   "metadata": {
    "scrolled": false
   },
   "outputs": [
    {
     "name": "stdout",
     "output_type": "stream",
     "text": [
      "Train on 6090 samples, validate on 1523 samples\n",
      "Epoch 1/5\n",
      "6090/6090 [==============================] - 4s 615us/step - loss: 0.6292 - acc: 0.6443 - val_loss: 0.5174 - val_acc: 0.7656\n",
      "Epoch 2/5\n",
      "6090/6090 [==============================] - 1s 146us/step - loss: 0.4848 - acc: 0.7772 - val_loss: 0.4581 - val_acc: 0.8017\n",
      "Epoch 3/5\n",
      "6090/6090 [==============================] - 1s 146us/step - loss: 0.4360 - acc: 0.8077 - val_loss: 0.4731 - val_acc: 0.7938\n",
      "Epoch 4/5\n",
      "6090/6090 [==============================] - 1s 147us/step - loss: 0.4138 - acc: 0.8169 - val_loss: 0.4372 - val_acc: 0.8089\n",
      "Epoch 5/5\n",
      "6090/6090 [==============================] - 1s 147us/step - loss: 0.3853 - acc: 0.8335 - val_loss: 0.4370 - val_acc: 0.8168\n"
     ]
    }
   ],
   "source": [
    "paragram_history = paragram_model.fit(train_data_features, y_train, batch_size=256, epochs=5, \n",
    "                    validation_data=[val_data_features, y_val])"
   ]
  },
  {
   "cell_type": "code",
   "execution_count": 133,
   "metadata": {},
   "outputs": [
    {
     "data": {
      "image/png": "[encoded data removed]",
      "text/plain": [
       "<Figure size 1008x432 with 2 Axes>"
      ]
     },
     "metadata": {
      "needs_background": "light"
     },
     "output_type": "display_data"
    }
   ],
   "source": [
    "plot_loss_curves(paragram_history)"
   ]
  },
  {
   "cell_type": "code",
   "execution_count": 135,
   "metadata": {},
   "outputs": [
    {
     "name": "stdout",
     "output_type": "stream",
     "text": [
      "              precision    recall  f1-score   support\n",
      "\n",
      "           0       0.81      0.90      0.85       886\n",
      "           1       0.83      0.70      0.76       637\n",
      "\n",
      "    accuracy                           0.82      1523\n",
      "   macro avg       0.82      0.80      0.81      1523\n",
      "weighted avg       0.82      0.82      0.81      1523\n",
      "\n"
     ]
    }
   ],
   "source": [
    "y_val_pred_paragram = paragram_model.predict_classes(val_data_features)\n",
    "print(classification_report(y_val, y_val_pred_paragram))"
   ]
  },
  {
   "cell_type": "code",
   "execution_count": 136,
   "metadata": {},
   "outputs": [
    {
     "name": "stdout",
     "output_type": "stream",
     "text": [
      "F1 score at threshold 0.2 is 0.7382550335570469\n",
      "F1 score at threshold 0.21 is 0.7465753424657534\n",
      "F1 score at threshold 0.22 is 0.7463718037318589\n",
      "F1 score at threshold 0.23 is 0.7478991596638657\n",
      "F1 score at threshold 0.24 is 0.7469707769066287\n",
      "F1 score at threshold 0.25 is 0.7536023054755042\n",
      "F1 score at threshold 0.26 is 0.75254730713246\n",
      "F1 score at threshold 0.27 is 0.7538574577516534\n",
      "F1 score at threshold 0.28 is 0.7561156412157153\n",
      "F1 score at threshold 0.29 is 0.7574850299401198\n",
      "F1 score at threshold 0.3 is 0.7601809954751132\n",
      "F1 score at threshold 0.31 is 0.7579908675799089\n",
      "F1 score at threshold 0.32 is 0.76036866359447\n",
      "F1 score at threshold 0.33 is 0.7632398753894082\n",
      "F1 score at threshold 0.34 is 0.766223612197029\n",
      "F1 score at threshold 0.35 is 0.7666928515318148\n",
      "F1 score at threshold 0.36 is 0.7624309392265194\n",
      "F1 score at threshold 0.37 is 0.7617529880478088\n",
      "F1 score at threshold 0.38 is 0.7606084867894316\n",
      "F1 score at threshold 0.39 is 0.7626709573612229\n",
      "F1 score at threshold 0.4 is 0.7653721682847895\n",
      "F1 score at threshold 0.41 is 0.7668562144597888\n",
      "F1 score at threshold 0.42 is 0.7630718954248366\n",
      "F1 score at threshold 0.43 is 0.7629204265791633\n",
      "F1 score at threshold 0.44 is 0.7644151565074135\n",
      "F1 score at threshold 0.45 is 0.7622203811101905\n",
      "F1 score at threshold 0.46 is 0.7626977518734388\n",
      "F1 score at threshold 0.47 is 0.7627829002514669\n",
      "F1 score at threshold 0.48 is 0.7597292724196278\n",
      "F1 score at threshold 0.49 is 0.7606112054329373\n",
      "F1 score at threshold 0.5 is 0.7621483375959078\n"
     ]
    }
   ],
   "source": [
    "y_val_probs_paragram = paragram_model.predict_proba(val_data_features)\n",
    "\n",
    "for thresh in np.arange(0.2, 0.501, 0.01):\n",
    "    thresh = np.round(thresh, 2)\n",
    "    print('F1 score at threshold {0} is {1}'.format(thresh, f1_score(y_val, y_val_probs_paragram>thresh)))"
   ]
  },
  {
   "cell_type": "markdown",
   "metadata": {},
   "source": [
    "Maximum F1 score using Paragram is 0.767 at a threshold of 0.41"
   ]
  },
  {
   "cell_type": "code",
   "execution_count": 137,
   "metadata": {},
   "outputs": [],
   "source": [
    "gc.collect(); time.sleep(3)"
   ]
  },
  {
   "cell_type": "markdown",
   "metadata": {},
   "source": [
    "<h3>Blended Model</h3>\n",
    "\n",
    "Since GloVe, FastText and Paragram embeddings are trained using different principles, it's possible that they learned different things and that a blended model provides better predictions"
   ]
  },
  {
   "cell_type": "code",
   "execution_count": 139,
   "metadata": {},
   "outputs": [
    {
     "name": "stdout",
     "output_type": "stream",
     "text": [
      "F1 score at threshold 0.1 is 0.6529100529100529\n",
      "F1 score at threshold 0.11 is 0.6673936750272628\n",
      "F1 score at threshold 0.12 is 0.6804932735426009\n",
      "F1 score at threshold 0.13 is 0.6896948762233737\n",
      "F1 score at threshold 0.14 is 0.6975381008206331\n",
      "F1 score at threshold 0.15 is 0.7082833133253302\n",
      "F1 score at threshold 0.16 is 0.720887245841035\n",
      "F1 score at threshold 0.17 is 0.7285266457680251\n",
      "F1 score at threshold 0.18 is 0.731016731016731\n",
      "F1 score at threshold 0.19 is 0.7373935821872954\n",
      "F1 score at threshold 0.2 is 0.7416331994645248\n",
      "F1 score at threshold 0.21 is 0.7462686567164178\n",
      "F1 score at threshold 0.22 is 0.7529249827942189\n",
      "F1 score at threshold 0.23 is 0.7549019607843137\n",
      "F1 score at threshold 0.24 is 0.7642857142857142\n",
      "F1 score at threshold 0.25 is 0.7690079652425778\n",
      "F1 score at threshold 0.26 is 0.7690058479532164\n",
      "F1 score at threshold 0.27 is 0.7743362831858406\n",
      "F1 score at threshold 0.28 is 0.7762081784386617\n",
      "F1 score at threshold 0.29 is 0.7747747747747746\n",
      "F1 score at threshold 0.3 is 0.7733131159969675\n",
      "F1 score at threshold 0.31 is 0.774885145482389\n",
      "F1 score at threshold 0.32 is 0.77752117013087\n",
      "F1 score at threshold 0.33 is 0.7807153965785381\n",
      "F1 score at threshold 0.34 is 0.7781250000000001\n",
      "F1 score at threshold 0.35 is 0.7722616233254531\n",
      "F1 score at threshold 0.36 is 0.7749603803486529\n",
      "F1 score at threshold 0.37 is 0.7780429594272076\n",
      "F1 score at threshold 0.38 is 0.7777777777777779\n",
      "F1 score at threshold 0.39 is 0.7807660961695192\n",
      "F1 score at threshold 0.4 is 0.7783251231527094\n",
      "F1 score at threshold 0.41 is 0.7786008230452675\n",
      "F1 score at threshold 0.42 is 0.781456953642384\n",
      "F1 score at threshold 0.43 is 0.7803660565723795\n",
      "F1 score at threshold 0.44 is 0.778894472361809\n",
      "F1 score at threshold 0.45 is 0.775716694772344\n",
      "F1 score at threshold 0.46 is 0.7741935483870968\n",
      "F1 score at threshold 0.47 is 0.7702818104184457\n",
      "F1 score at threshold 0.48 is 0.7687016337059329\n",
      "F1 score at threshold 0.49 is 0.765112262521589\n",
      "F1 score at threshold 0.5 is 0.761904761904762\n"
     ]
    }
   ],
   "source": [
    "y_val_probs_blend = 0.34*y_val_probs_glove + 0.33*y_val_probs_fasttext + 0.33*y_val_probs_paragram\n",
    "for thresh in np.arange(0.1, 0.501, 0.01):\n",
    "    thresh = np.round(thresh, 2)\n",
    "    print(\"F1 score at threshold {0} is {1}\".format(thresh, f1_score(y_val, (y_val_probs_blend>thresh).astype(int))))"
   ]
  },
  {
   "cell_type": "markdown",
   "metadata": {},
   "source": [
    "Maximum F1 score using the blended model is 0.781 at a threshold of 0.42, which is indeed higher than the three individual models. It also outperforms the models without pretrained embeddings. We can now use the blended model to make some predictions on the test set"
   ]
  },
  {
   "cell_type": "code",
   "execution_count": 143,
   "metadata": {
    "scrolled": true
   },
   "outputs": [
    {
     "data": {
      "text/plain": [
       "0.37174379405455105"
      ]
     },
     "execution_count": 143,
     "metadata": {},
     "output_type": "execute_result"
    }
   ],
   "source": [
    "y_test_probs_glove = glove_model.predict_proba(test_data_features)\n",
    "y_test_probs_fasttext = fasttext_model.predict_proba(test_data_features)\n",
    "y_test_probs_paragram = paragram_model.predict_proba(test_data_features)\n",
    "\n",
    "y_test_probs = 0.34*y_test_probs_glove + 0.33*y_test_probs_fasttext + 0.33*y_test_probs_paragram\n",
    "y_test_preds = (y_test_probs>0.42)*1\n",
    "y_test_preds.mean()"
   ]
  },
  {
   "cell_type": "markdown",
   "metadata": {},
   "source": [
    "The blended model predicts that roughly 37% are disaster tweets"
   ]
  },
  {
   "cell_type": "code",
   "execution_count": 144,
   "metadata": {},
   "outputs": [],
   "source": [
    "test['target'] = y_test_preds\n",
    "test[['id', 'target']].to_csv('data/submission_pretrained.csv', index=False)"
   ]
  },
  {
   "cell_type": "code",
   "execution_count": null,
   "metadata": {},
   "outputs": [],
   "source": []
  }
 ],
 "metadata": {
  "kernelspec": {
   "display_name": "TensorFlow-GPU-2.0.0",
   "language": "python",
   "name": "tf-gpu"
  },
  "language_info": {
   "codemirror_mode": {
    "name": "ipython",
    "version": 3
   },
   "file_extension": ".py",
   "mimetype": "text/x-python",
   "name": "python",
   "nbconvert_exporter": "python",
   "pygments_lexer": "ipython3",
   "version": "3.7.6"
  }
 },
 "nbformat": 4,
 "nbformat_minor": 4
}
